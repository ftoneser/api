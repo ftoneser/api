{
  "cells": [
    {
      "cell_type": "markdown",
      "metadata": {
        "id": "view-in-github",
        "colab_type": "text"
      },
      "source": [
        "<a href=\"https://colab.research.google.com/github/ftoneser/api/blob/master/content/chapter_1/ab-testing.ipynb\" target=\"_parent\"><img src=\"https://colab.research.google.com/assets/colab-badge.svg\" alt=\"Open In Colab\"/></a>"
      ]
    },
    {
      "cell_type": "code",
      "execution_count": 3,
      "metadata": {
        "colab": {
          "base_uri": "https://localhost:8080/",
          "height": 106
        },
        "id": "B0dl7d7KTeA0",
        "outputId": "39e29868-213b-4890-d236-b27e132d9448"
      },
      "outputs": [
        {
          "output_type": "error",
          "ename": "SyntaxError",
          "evalue": "invalid syntax (ipython-input-3-2501571392.py, line 1)",
          "traceback": [
            "\u001b[0;36m  File \u001b[0;32m\"/tmp/ipython-input-3-2501571392.py\"\u001b[0;36m, line \u001b[0;32m1\u001b[0m\n\u001b[0;31m    Set your OpenAI key as an environment variable\u001b[0m\n\u001b[0m        ^\u001b[0m\n\u001b[0;31mSyntaxError\u001b[0m\u001b[0;31m:\u001b[0m invalid syntax\n"
          ]
        }
      ],
      "source": [
        "Set your OpenAI key as an environment variable\n",
        "# https://platform.openai.com/api-keys\n",
        "os.environ['OPENAI_API_KEY'] = userdata.get('OPENAI_API_KEY')\n",
        "\n",
        "client = OpenAI(\n",
        "  api_key=os.environ['OPENAI_API_KEY'],  # Default\n",
        ")\n",
        "\n",
        "def get_response(prompt):\n",
        "    response = client.chat.completions.create(\n",
        "        model=\"gpt-3.5-turbo\",\n",
        "        messages=[\n",
        "            {\n",
        "                \"role\": \"system\",\n",
        "                \"content\": \"You are a helpful assistant.\"\n",
        "            },\n",
        "            {\n",
        "                \"role\": \"user\",\n",
        "                \"content\": prompt\n",
        "            }\n",
        "        ]\n",
        "    )\n",
        "    return response.choices[0].message.content\n",
        "\n",
        "# Iterate through the prompts and get responses\n",
        "responses = []\n",
        "num_tests = 5\n",
        "\n",
        "for idx, prompt in enumerate(test_prompts):\n",
        "    # prompt number as a letter\n",
        "    var_name = chr(ord('A') + idx)\n",
        "\n",
        "    for i in range(num_tests):\n",
        "        # Get a response from the model\n",
        "        response = get_response(prompt)\n",
        "\n",
        "        data = {\n",
        "            \"variant\": var_name,\n",
        "            \"prompt\": prompt,\n",
        "            \"response\": response\n",
        "            }\n",
        "        responses.append(data)\n",
        "\n",
        "# Convert responses into a dataframe\n",
        "df = pd.DataFrame(responses)\n",
        "\n",
        "# Save the dataframe as a CSV file\n",
        "df.to_csv(\"responses.csv\", index=False)\n",
        "\n",
        "print(df)"
      ]
    },
    {
      "cell_type": "code",
      "source": [],
      "metadata": {
        "id": "RJzULHhdYzuT"
      },
      "execution_count": null,
      "outputs": []
    },
    {
      "cell_type": "code",
      "execution_count": null,
      "metadata": {
        "colab": {
          "referenced_widgets": [
            "8854fc17f0d048ec8257ad3072ebc0c5",
            "a307e4d891f3433f897c8b3f00630956",
            "f775bb28effb4b9b8b53efc4c21145f2"
          ]
        },
        "id": "cHkDDF3GTeA1",
        "outputId": "5f6f0056-ec93-48da-8144-f7ab150f1882"
      },
      "outputs": [
        {
          "data": {
            "application/vnd.jupyter.widget-view+json": {
              "model_id": "8854fc17f0d048ec8257ad3072ebc0c5",
              "version_major": 2,
              "version_minor": 0
            },
            "text/plain": [
              "HTML(value='<p>AdaptaFit, OmniFit, PerfectFit, FlexiFit</p>')"
            ]
          },
          "metadata": {},
          "output_type": "display_data"
        },
        {
          "data": {
            "application/vnd.jupyter.widget-view+json": {
              "model_id": "a307e4d891f3433f897c8b3f00630956",
              "version_major": 2,
              "version_minor": 0
            },
            "text/plain": [
              "HBox(children=(Button(description='👎', style=ButtonStyle()), Button(description='👍', style=ButtonStyle())))"
            ]
          },
          "metadata": {},
          "output_type": "display_data"
        },
        {
          "data": {
            "application/vnd.jupyter.widget-view+json": {
              "model_id": "f775bb28effb4b9b8b53efc4c21145f2",
              "version_major": 2,
              "version_minor": 0
            },
            "text/plain": [
              "Label(value='Response: 1/10')"
            ]
          },
          "metadata": {},
          "output_type": "display_data"
        },
        {
          "name": "stdout",
          "output_type": "stream",
          "text": [
            "A/B testing completed. Here's the results:\n",
            "  variant  count score\n",
            "0       A      5   0.6\n",
            "1       B      5   0.8\n"
          ]
        }
      ],
      "source": [
        "import ipywidgets as widgets\n",
        "from IPython.display import display\n",
        "import pandas as pd\n",
        "\n",
        "# load the responses.csv file\n",
        "df = pd.read_csv(\"responses.csv\")\n",
        "\n",
        "# Shuffle the dataframe\n",
        "df = df.sample(frac=1).reset_index(drop=True)\n",
        "\n",
        "# df is your dataframe and 'response' is the column with the\n",
        "# text you want to test\n",
        "response_index = 0\n",
        "# add a new column to store feedback\n",
        "df['feedback'] = pd.Series(dtype='str')\n",
        "\n",
        "def on_button_clicked(b):\n",
        "    global response_index\n",
        "    #  convert thumbs up / down to 1 / 0\n",
        "    user_feedback = 1 if b.description == \"\\U0001F44D\" else 0\n",
        "\n",
        "    # update the feedback column\n",
        "    df.at[response_index, 'feedback'] = user_feedback\n",
        "\n",
        "    response_index += 1\n",
        "    if response_index < len(df):\n",
        "        update_response()\n",
        "    else:\n",
        "        # save the feedback to a CSV file\n",
        "        df.to_csv(\"results.csv\", index=False)\n",
        "\n",
        "        print(\"A/B testing completed. Here's the results:\")\n",
        "        # Calculate score and num rows for each variant\n",
        "        summary_df = df.groupby('variant').agg(\n",
        "            count=('feedback', 'count'),\n",
        "            score=('feedback', 'mean')).reset_index()\n",
        "        print(summary_df)\n",
        "\n",
        "def update_response():\n",
        "    new_response = df.iloc[response_index]['response']\n",
        "    if pd.notna(new_response):\n",
        "        new_response = \"<p>\" + new_response + \"</p>\"\n",
        "    else:\n",
        "        new_response = \"<p>No response</p>\"\n",
        "    response.value = new_response\n",
        "    count_label.value = f\"Response: {response_index + 1}\"\n",
        "    count_label.value += f\"/{len(df)}\"\n",
        "\n",
        "response = widgets.HTML()\n",
        "count_label = widgets.Label()\n",
        "\n",
        "update_response()\n",
        "\n",
        "thumbs_up_button = widgets.Button(description='\\U0001F44D')\n",
        "thumbs_up_button.on_click(on_button_clicked)\n",
        "\n",
        "thumbs_down_button = widgets.Button(\n",
        "    description='\\U0001F44E')\n",
        "thumbs_down_button.on_click(on_button_clicked)\n",
        "\n",
        "button_box = widgets.HBox([thumbs_down_button,\n",
        "thumbs_up_button])\n",
        "\n",
        "display(response, button_box, count_label)"
      ]
    }
  ],
  "metadata": {
    "kernelspec": {
      "display_name": "Python 3",
      "language": "python",
      "name": "python3"
    },
    "language_info": {
      "codemirror_mode": {
        "name": "ipython",
        "version": 3
      },
      "file_extension": ".py",
      "mimetype": "text/x-python",
      "name": "python",
      "nbconvert_exporter": "python",
      "pygments_lexer": "ipython3",
      "version": "3.9.6"
    },
    "colab": {
      "provenance": [],
      "include_colab_link": true
    }
  },
  "nbformat": 4,
  "nbformat_minor": 0
}